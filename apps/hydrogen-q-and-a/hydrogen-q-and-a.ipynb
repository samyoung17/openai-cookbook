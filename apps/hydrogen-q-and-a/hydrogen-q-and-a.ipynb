{
 "cells": [
  {
   "cell_type": "code",
   "execution_count": 1,
   "metadata": {
    "collapsed": true
   },
   "outputs": [
    {
     "name": "stderr",
     "output_type": "stream",
     "text": [
      "/Users/samyoung/code/openai-cookbook/venv/lib/python3.10/site-packages/tqdm/auto.py:22: TqdmWarning: IProgress not found. Please update jupyter and ipywidgets. See https://ipywidgets.readthedocs.io/en/stable/user_install.html\n",
      "  from .autonotebook import tqdm as notebook_tqdm\n",
      "None of PyTorch, TensorFlow >= 2.0, or Flax have been found. Models won't be available and only tokenizers, configuration and file/data utilities can be used.\n"
     ]
    }
   ],
   "source": [
    "from pathlib import Path\n",
    "import pandas as pd\n",
    "import openai\n",
    "import re\n",
    "import numpy as np\n",
    "from transformers import GPT2TokenizerFast"
   ]
  },
  {
   "cell_type": "code",
   "execution_count": 2,
   "outputs": [],
   "source": [
    "openai.api_key_path = '/Users/samyoung/.openai-api-key.txt'"
   ],
   "metadata": {
    "collapsed": false
   }
  },
  {
   "cell_type": "code",
   "execution_count": 3,
   "outputs": [],
   "source": [
    "# Notion allows exporting a page (and all subpages), as a folder containing manifest .md files.\n",
    "wiki_paths = list(Path('fine_tuning_wikis').rglob('*.md'))\n",
    "wikis = [open(wiki_path).read() for wiki_path in wiki_paths]"
   ],
   "metadata": {
    "collapsed": false
   }
  },
  {
   "cell_type": "code",
   "execution_count": 4,
   "outputs": [],
   "source": [
    "\n",
    "tokenizer = GPT2TokenizerFast.from_pretrained(\"gpt2\")\n",
    "\n",
    "def count_tokens(text: str) -> int:\n",
    "    \"\"\"count the number of tokens in a string\"\"\"\n",
    "    return len(tokenizer.encode(text))\n",
    "\n",
    "def reduce_long(\n",
    "    long_text: str, long_text_tokens: bool = False, max_len: int = 590\n",
    ") -> str:\n",
    "    \"\"\"\n",
    "    Reduce a long text to a maximum of `max_len` tokens by potentially cutting at a sentence end\n",
    "    \"\"\"\n",
    "    if not long_text_tokens:\n",
    "        long_text_tokens = count_tokens(long_text)\n",
    "    if long_text_tokens > max_len:\n",
    "        sentences = long_text.split('\\n')\n",
    "        ntokens = 0\n",
    "        for i, sentence in enumerate(sentences):\n",
    "            ntokens += 1 + count_tokens(sentence)\n",
    "            if ntokens > max_len:\n",
    "                return \"\\n\".join(sentences[:i])\n",
    "\n",
    "    return long_text"
   ],
   "metadata": {
    "collapsed": false
   }
  },
  {
   "cell_type": "code",
   "execution_count": 22,
   "outputs": [],
   "source": [
    "\n",
    "def split_sections(wiki_text):\n",
    "    headings = re.findall(\"#.*\\n\", wiki_text)\n",
    "    for heading in headings:\n",
    "        wiki_text = wiki_text.replace(heading, \"==+ !! ==+\")\n",
    "    contents = wiki_text.split(\"==+ !! ==+\")\n",
    "    contents = [c.strip() for c in contents]\n",
    "    assert len(headings) == len(contents) - 1\n",
    "    return headings, contents\n",
    "\n",
    "def build_dataframe(headings, contents, page_name, max_tokens=1500):\n",
    "    df = pd.DataFrame({'heading': headings, 'content': contents[1:], 'page_name': page_name})\n",
    "    df = df[df.content != '']\n",
    "    df['context'] = df['heading'] + df['content']\n",
    "    df['n_tokens_before'] = df['context'].apply(count_tokens)\n",
    "    df['context'] = np.where(df['n_tokens_before'] > max_tokens,\n",
    "                             df.context.apply(lambda ctx: reduce_long(ctx, max_len=max_tokens)),\n",
    "                             df.context)\n",
    "    df['n_tokens_after'] = df['context'].apply(count_tokens)\n",
    "    return df"
   ],
   "metadata": {
    "collapsed": false
   }
  },
  {
   "cell_type": "code",
   "execution_count": 23,
   "outputs": [],
   "source": [
    "dfs = []\n",
    "for wiki, path in zip(wikis, wiki_paths):\n",
    "    headings, contents = split_sections(wiki)\n",
    "    x = build_dataframe(headings, contents, path.name)\n",
    "    dfs.append(x)\n",
    "df = pd.concat(dfs)"
   ],
   "metadata": {
    "collapsed": false
   }
  },
  {
   "cell_type": "code",
   "execution_count": 24,
   "outputs": [
    {
     "data": {
      "text/plain": "                                             heading  \\\n1                                ### Ahead of time\\n   \n2                                      ### Context\\n   \n3                              ### System Overview\\n   \n5                                   ### Demo of UI\\n   \n0                                         # Motive\\n   \n1                                        ### Epics\\n   \n0                                        # Canford\\n   \n1                       ## 26th Jan 2023 Questions\\n   \n3                       ### Questions before call:\\n   \n4     ### Transcript of call (basically verbatim):\\n   \n2                        ### Wed, 10th August 2022\\n   \n3                      ### Friday 12th August 2022\\n   \n0                      # 2nd September demo script\\n   \n0                                    # Integration\\n   \n1                                               #)\\n   \n1           ## Step 1: Basic storage visualization\\n   \n2  ## Step 2: UI for a repeating schedule that to...   \n4            ## Step 4: Octopus Energy integration\\n   \n7  ### **First iteration:** Show storage in the U...   \n8  ### **Second iteration:** Allow users to confi...   \n9                           ## Presentation script\\n   \n\n                                             content  \\\n1  - Trigger a schedule of production in staging ...   \n2  - NOTE: Audience are project owners - would wa...   \n3  - Slides: [https://docs.google.com/presentatio...   \n5  **What are they looking at?**\\n\\n- Our platfor...   \n0  [Emails](Motive b049fe9c69884be880e7e4a6addb09...   \n1  [OE Pricing Integration](https://www.notion.so...   \n0  ![Screenshot 2023-01-19 at 11.50.07.png](Canfo...   \n1  - In your email you asked whether our system w...   \n3  - Ask whether they may want electrolyzer integ...   \n4  - Rob: Electrolyzer still on track, maybe slip...   \n2  *Hi All,*\\n\\n*Thanks for the information, apol...   \n3  *Hi Will,*\\n\\n*Thanks for this. I have legal r...   \n0  From James: \\n\\n- *VC to demo of the software ...   \n0  [Initial integration proposal doc](https://doc...   \n1  Questions: \\n\\n- How frequently can we change ...   \n1  **Status:** ✅\\n\\nAdd a basic feature flagged r...   \n2  **Status: ✅**\\n\\n**Scenario as provided by the...   \n4  Here’s the recording from the first meeting we...   \n7  - Initial work required:\\n    - Adding a table...   \n8  The idea here is that we allow a production ma...   \n9  - Show the repeating schedule and mention that...   \n\n                                           page_name  \\\n1  Plug demo script fd56e061d83b4731bb4122fb369a1...   \n2  Plug demo script fd56e061d83b4731bb4122fb369a1...   \n3  Plug demo script fd56e061d83b4731bb4122fb369a1...   \n5  Plug demo script fd56e061d83b4731bb4122fb369a1...   \n0         Motive b049fe9c69884be880e7e4a6addb0948.md   \n1         Motive b049fe9c69884be880e7e4a6addb0948.md   \n0        Canford e5e6d72a02cc4eab916f0122c177b2ed.md   \n1        Canford e5e6d72a02cc4eab916f0122c177b2ed.md   \n3        Canford e5e6d72a02cc4eab916f0122c177b2ed.md   \n4        Canford e5e6d72a02cc4eab916f0122c177b2ed.md   \n2         Emails 285f6e98b8704299b18d3350298da4e4.md   \n3         Emails 285f6e98b8704299b18d3350298da4e4.md   \n0  2nd September demo script 8b81c88d22a24546a694...   \n0    Integration 9d59bf9c5ea14f9ca7686b031a73c2af.md   \n1    Integration 9d59bf9c5ea14f9ca7686b031a73c2af.md   \n1  2nd September Demo de6dcebd748047c896e8f12c527...   \n2  2nd September Demo de6dcebd748047c896e8f12c527...   \n4  2nd September Demo de6dcebd748047c896e8f12c527...   \n7  2nd September Demo de6dcebd748047c896e8f12c527...   \n8  2nd September Demo de6dcebd748047c896e8f12c527...   \n9  2nd September Demo de6dcebd748047c896e8f12c527...   \n\n                                             context  n_tokens_before  \\\n1  ### Ahead of time\\n- Trigger a schedule of pro...               30   \n2  ### Context\\n- NOTE: Audience are project owne...              110   \n3  ### System Overview\\n- Slides: [https://docs.g...               57   \n5  ### Demo of UI\\n**What are they looking at?**\\...              675   \n0  # Motive\\n[Emails](Motive b049fe9c69884be880e7...              227   \n1  ### Epics\\n[OE Pricing Integration](https://ww...              146   \n0  # Canford\\n![Screenshot 2023-01-19 at 11.50.07...             1067   \n1  ## 26th Jan 2023 Questions\\n- In your email yo...             1543   \n3  ### Questions before call:\\n- Ask whether they...               41   \n4  ### Transcript of call (basically verbatim):\\n...             2909   \n2  ### Wed, 10th August 2022\\n*Hi All,*\\n\\n*Thank...              728   \n3  ### Friday 12th August 2022\\n*Hi Will,*\\n\\n*Th...              239   \n0  # 2nd September demo script\\nFrom James: \\n\\n-...              818   \n0  # Integration\\n[Initial integration proposal d...               57   \n1  #)\\nQuestions: \\n\\n- How frequently can we cha...              159   \n1  ## Step 1: Basic storage visualization\\n**Stat...              218   \n2  ## Step 2: UI for a repeating schedule that to...              372   \n4  ## Step 4: Octopus Energy integration\\nHere’s ...              301   \n7  ### **First iteration:** Show storage in the U...              355   \n8  ### **Second iteration:** Allow users to confi...               51   \n9  ## Presentation script\\n- Show the repeating s...               98   \n\n   n_tokens_after  \n1              30  \n2             110  \n3              57  \n5             675  \n0             227  \n1             146  \n0            1067  \n1            1496  \n3              41  \n4            1459  \n2             728  \n3             239  \n0             818  \n0              57  \n1             159  \n1             218  \n2             372  \n4             301  \n7             355  \n8              51  \n9              98  ",
      "text/html": "<div>\n<style scoped>\n    .dataframe tbody tr th:only-of-type {\n        vertical-align: middle;\n    }\n\n    .dataframe tbody tr th {\n        vertical-align: top;\n    }\n\n    .dataframe thead th {\n        text-align: right;\n    }\n</style>\n<table border=\"1\" class=\"dataframe\">\n  <thead>\n    <tr style=\"text-align: right;\">\n      <th></th>\n      <th>heading</th>\n      <th>content</th>\n      <th>page_name</th>\n      <th>context</th>\n      <th>n_tokens_before</th>\n      <th>n_tokens_after</th>\n    </tr>\n  </thead>\n  <tbody>\n    <tr>\n      <th>1</th>\n      <td>### Ahead of time\\n</td>\n      <td>- Trigger a schedule of production in staging ...</td>\n      <td>Plug demo script fd56e061d83b4731bb4122fb369a1...</td>\n      <td>### Ahead of time\\n- Trigger a schedule of pro...</td>\n      <td>30</td>\n      <td>30</td>\n    </tr>\n    <tr>\n      <th>2</th>\n      <td>### Context\\n</td>\n      <td>- NOTE: Audience are project owners - would wa...</td>\n      <td>Plug demo script fd56e061d83b4731bb4122fb369a1...</td>\n      <td>### Context\\n- NOTE: Audience are project owne...</td>\n      <td>110</td>\n      <td>110</td>\n    </tr>\n    <tr>\n      <th>3</th>\n      <td>### System Overview\\n</td>\n      <td>- Slides: [https://docs.google.com/presentatio...</td>\n      <td>Plug demo script fd56e061d83b4731bb4122fb369a1...</td>\n      <td>### System Overview\\n- Slides: [https://docs.g...</td>\n      <td>57</td>\n      <td>57</td>\n    </tr>\n    <tr>\n      <th>5</th>\n      <td>### Demo of UI\\n</td>\n      <td>**What are they looking at?**\\n\\n- Our platfor...</td>\n      <td>Plug demo script fd56e061d83b4731bb4122fb369a1...</td>\n      <td>### Demo of UI\\n**What are they looking at?**\\...</td>\n      <td>675</td>\n      <td>675</td>\n    </tr>\n    <tr>\n      <th>0</th>\n      <td># Motive\\n</td>\n      <td>[Emails](Motive b049fe9c69884be880e7e4a6addb09...</td>\n      <td>Motive b049fe9c69884be880e7e4a6addb0948.md</td>\n      <td># Motive\\n[Emails](Motive b049fe9c69884be880e7...</td>\n      <td>227</td>\n      <td>227</td>\n    </tr>\n    <tr>\n      <th>1</th>\n      <td>### Epics\\n</td>\n      <td>[OE Pricing Integration](https://www.notion.so...</td>\n      <td>Motive b049fe9c69884be880e7e4a6addb0948.md</td>\n      <td>### Epics\\n[OE Pricing Integration](https://ww...</td>\n      <td>146</td>\n      <td>146</td>\n    </tr>\n    <tr>\n      <th>0</th>\n      <td># Canford\\n</td>\n      <td>![Screenshot 2023-01-19 at 11.50.07.png](Canfo...</td>\n      <td>Canford e5e6d72a02cc4eab916f0122c177b2ed.md</td>\n      <td># Canford\\n![Screenshot 2023-01-19 at 11.50.07...</td>\n      <td>1067</td>\n      <td>1067</td>\n    </tr>\n    <tr>\n      <th>1</th>\n      <td>## 26th Jan 2023 Questions\\n</td>\n      <td>- In your email you asked whether our system w...</td>\n      <td>Canford e5e6d72a02cc4eab916f0122c177b2ed.md</td>\n      <td>## 26th Jan 2023 Questions\\n- In your email yo...</td>\n      <td>1543</td>\n      <td>1496</td>\n    </tr>\n    <tr>\n      <th>3</th>\n      <td>### Questions before call:\\n</td>\n      <td>- Ask whether they may want electrolyzer integ...</td>\n      <td>Canford e5e6d72a02cc4eab916f0122c177b2ed.md</td>\n      <td>### Questions before call:\\n- Ask whether they...</td>\n      <td>41</td>\n      <td>41</td>\n    </tr>\n    <tr>\n      <th>4</th>\n      <td>### Transcript of call (basically verbatim):\\n</td>\n      <td>- Rob: Electrolyzer still on track, maybe slip...</td>\n      <td>Canford e5e6d72a02cc4eab916f0122c177b2ed.md</td>\n      <td>### Transcript of call (basically verbatim):\\n...</td>\n      <td>2909</td>\n      <td>1459</td>\n    </tr>\n    <tr>\n      <th>2</th>\n      <td>### Wed, 10th August 2022\\n</td>\n      <td>*Hi All,*\\n\\n*Thanks for the information, apol...</td>\n      <td>Emails 285f6e98b8704299b18d3350298da4e4.md</td>\n      <td>### Wed, 10th August 2022\\n*Hi All,*\\n\\n*Thank...</td>\n      <td>728</td>\n      <td>728</td>\n    </tr>\n    <tr>\n      <th>3</th>\n      <td>### Friday 12th August 2022\\n</td>\n      <td>*Hi Will,*\\n\\n*Thanks for this. I have legal r...</td>\n      <td>Emails 285f6e98b8704299b18d3350298da4e4.md</td>\n      <td>### Friday 12th August 2022\\n*Hi Will,*\\n\\n*Th...</td>\n      <td>239</td>\n      <td>239</td>\n    </tr>\n    <tr>\n      <th>0</th>\n      <td># 2nd September demo script\\n</td>\n      <td>From James: \\n\\n- *VC to demo of the software ...</td>\n      <td>2nd September demo script 8b81c88d22a24546a694...</td>\n      <td># 2nd September demo script\\nFrom James: \\n\\n-...</td>\n      <td>818</td>\n      <td>818</td>\n    </tr>\n    <tr>\n      <th>0</th>\n      <td># Integration\\n</td>\n      <td>[Initial integration proposal doc](https://doc...</td>\n      <td>Integration 9d59bf9c5ea14f9ca7686b031a73c2af.md</td>\n      <td># Integration\\n[Initial integration proposal d...</td>\n      <td>57</td>\n      <td>57</td>\n    </tr>\n    <tr>\n      <th>1</th>\n      <td>#)\\n</td>\n      <td>Questions: \\n\\n- How frequently can we change ...</td>\n      <td>Integration 9d59bf9c5ea14f9ca7686b031a73c2af.md</td>\n      <td>#)\\nQuestions: \\n\\n- How frequently can we cha...</td>\n      <td>159</td>\n      <td>159</td>\n    </tr>\n    <tr>\n      <th>1</th>\n      <td>## Step 1: Basic storage visualization\\n</td>\n      <td>**Status:** ✅\\n\\nAdd a basic feature flagged r...</td>\n      <td>2nd September Demo de6dcebd748047c896e8f12c527...</td>\n      <td>## Step 1: Basic storage visualization\\n**Stat...</td>\n      <td>218</td>\n      <td>218</td>\n    </tr>\n    <tr>\n      <th>2</th>\n      <td>## Step 2: UI for a repeating schedule that to...</td>\n      <td>**Status: ✅**\\n\\n**Scenario as provided by the...</td>\n      <td>2nd September Demo de6dcebd748047c896e8f12c527...</td>\n      <td>## Step 2: UI for a repeating schedule that to...</td>\n      <td>372</td>\n      <td>372</td>\n    </tr>\n    <tr>\n      <th>4</th>\n      <td>## Step 4: Octopus Energy integration\\n</td>\n      <td>Here’s the recording from the first meeting we...</td>\n      <td>2nd September Demo de6dcebd748047c896e8f12c527...</td>\n      <td>## Step 4: Octopus Energy integration\\nHere’s ...</td>\n      <td>301</td>\n      <td>301</td>\n    </tr>\n    <tr>\n      <th>7</th>\n      <td>### **First iteration:** Show storage in the U...</td>\n      <td>- Initial work required:\\n    - Adding a table...</td>\n      <td>2nd September Demo de6dcebd748047c896e8f12c527...</td>\n      <td>### **First iteration:** Show storage in the U...</td>\n      <td>355</td>\n      <td>355</td>\n    </tr>\n    <tr>\n      <th>8</th>\n      <td>### **Second iteration:** Allow users to confi...</td>\n      <td>The idea here is that we allow a production ma...</td>\n      <td>2nd September Demo de6dcebd748047c896e8f12c527...</td>\n      <td>### **Second iteration:** Allow users to confi...</td>\n      <td>51</td>\n      <td>51</td>\n    </tr>\n    <tr>\n      <th>9</th>\n      <td>## Presentation script\\n</td>\n      <td>- Show the repeating schedule and mention that...</td>\n      <td>2nd September Demo de6dcebd748047c896e8f12c527...</td>\n      <td>## Presentation script\\n- Show the repeating s...</td>\n      <td>98</td>\n      <td>98</td>\n    </tr>\n  </tbody>\n</table>\n</div>"
     },
     "execution_count": 24,
     "metadata": {},
     "output_type": "execute_result"
    }
   ],
   "source": [
    "df"
   ],
   "metadata": {
    "collapsed": false
   }
  },
  {
   "cell_type": "code",
   "execution_count": 25,
   "outputs": [],
   "source": [
    "def get_questions(context):\n",
    "    try:\n",
    "        response = openai.Completion.create(\n",
    "            engine=\"davinci-instruct-beta-v3\",\n",
    "            prompt=f\"Write questions based on the text below\\n\\nText: {context}\\n\\nQuestions:\\n1.\",\n",
    "            temperature=0,\n",
    "            max_tokens=257,\n",
    "            top_p=1,\n",
    "            frequency_penalty=0,\n",
    "            presence_penalty=0,\n",
    "            stop=[\"\\n\\n\"]\n",
    "        )\n",
    "        return response['choices'][0]['text']\n",
    "    except:\n",
    "        return \"\""
   ],
   "metadata": {
    "collapsed": false
   }
  },
  {
   "cell_type": "code",
   "execution_count": 26,
   "outputs": [
    {
     "name": "stdout",
     "output_type": "stream",
     "text": [
      "1. What is the schedule of production for Mira?\n",
      "2. What are the offtake, nor downtime events?\n",
      "3. How will the schedule of production be triggered?\n"
     ]
    }
   ],
   "source": [
    "df['questions'] = '1.' + df.context.apply(get_questions)\n",
    "print(df[['questions']].values[0][0])"
   ],
   "metadata": {
    "collapsed": false
   }
  },
  {
   "cell_type": "markdown",
   "source": [],
   "metadata": {
    "collapsed": false
   }
  },
  {
   "cell_type": "code",
   "execution_count": 27,
   "outputs": [
    {
     "name": "stdout",
     "output_type": "stream",
     "text": [
      "1. The schedule of production for Mira is a series of steps that need to be completed in a specific order in order for the product to be made.\n",
      "2. Offtake events are when the product is taken away from the production line for any reason. Downtime events are when the production line is stopped for any reason.\n",
      "3. The schedule of production will be triggered by a schedule of production in staging for Mira. This means that the steps that need to be completed in order for the product to be made will be done in a specific order, and will be triggered by the schedule in staging.\n"
     ]
    }
   ],
   "source": [
    "def get_answers(row):\n",
    "    try:\n",
    "        response = openai.Completion.create(\n",
    "            engine=\"davinci-instruct-beta-v3\",\n",
    "            prompt=f\"Write answer based on the text below\\n\\nText: {row.context}\\n\\nQuestions:\\n{row.questions}\\n\\nAnswers:\\n1.\",\n",
    "            temperature=0,\n",
    "            max_tokens=257,\n",
    "            top_p=1,\n",
    "            frequency_penalty=0,\n",
    "            presence_penalty=0\n",
    "        )\n",
    "        return response['choices'][0]['text']\n",
    "    except Exception as e:\n",
    "        print (e)\n",
    "        return \"\"\n",
    "\n",
    "\n",
    "df['answers']= df.apply(get_answers, axis=1)\n",
    "df['answers'] = \"1.\" + df.answers\n",
    "df = df.dropna().reset_index().drop('index',axis=1)\n",
    "print(df[['answers']].values[0][0])"
   ],
   "metadata": {
    "collapsed": false
   }
  },
  {
   "cell_type": "code",
   "execution_count": 29,
   "outputs": [],
   "source": [
    "Path('results').mkdir(parents=True, exist_ok=True)\n",
    "df.to_csv('results/hydrogen_q_and_a.csv', index=False)"
   ],
   "metadata": {
    "collapsed": false
   }
  },
  {
   "cell_type": "code",
   "execution_count": 30,
   "outputs": [
    {
     "name": "stdout",
     "output_type": "stream",
     "text": [
      "<class 'pandas.core.frame.DataFrame'>\n",
      "RangeIndex: 21 entries, 0 to 20\n",
      "Data columns (total 8 columns):\n",
      " #   Column           Non-Null Count  Dtype \n",
      "---  ------           --------------  ----- \n",
      " 0   heading          21 non-null     object\n",
      " 1   content          21 non-null     object\n",
      " 2   page_name        21 non-null     object\n",
      " 3   context          21 non-null     object\n",
      " 4   n_tokens_before  21 non-null     int64 \n",
      " 5   n_tokens_after   21 non-null     int64 \n",
      " 6   questions        21 non-null     object\n",
      " 7   answers          21 non-null     object\n",
      "dtypes: int64(2), object(6)\n",
      "memory usage: 1.4+ KB\n"
     ]
    }
   ],
   "source": [
    "df.info()"
   ],
   "metadata": {
    "collapsed": false
   }
  },
  {
   "cell_type": "code",
   "execution_count": 48,
   "outputs": [],
   "source": [
    "qa = df.apply(lambda row: list(zip(row['questions'].split('\\n'), row['answers'].split('\\n'))), axis=1).tolist()\n",
    "qa_flat = [item for sublist in qa for item in sublist]\n",
    "qadf = pd.DataFrame(qa_flat)\n",
    "qadf.columns=['question', 'answer']\n",
    "qadf.to_csv('results/qadf.csv', index=False)"
   ],
   "metadata": {
    "collapsed": false
   }
  },
  {
   "cell_type": "code",
   "execution_count": null,
   "outputs": [],
   "source": [],
   "metadata": {
    "collapsed": false
   }
  }
 ],
 "metadata": {
  "kernelspec": {
   "display_name": "Python 3",
   "language": "python",
   "name": "python3"
  },
  "language_info": {
   "codemirror_mode": {
    "name": "ipython",
    "version": 2
   },
   "file_extension": ".py",
   "mimetype": "text/x-python",
   "name": "python",
   "nbconvert_exporter": "python",
   "pygments_lexer": "ipython2",
   "version": "2.7.6"
  }
 },
 "nbformat": 4,
 "nbformat_minor": 0
}
